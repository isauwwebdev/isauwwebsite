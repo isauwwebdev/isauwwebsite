{
 "cells": [
  {
   "cell_type": "code",
   "execution_count": 12,
   "id": "33eb84fe",
   "metadata": {},
   "outputs": [
    {
     "name": "stdout",
     "output_type": "stream",
     "text": [
      "Requirement already satisfied: pywhatkit in /Library/Frameworks/Python.framework/Versions/3.11/lib/python3.11/site-packages (5.4)\n",
      "Requirement already satisfied: Pillow in /Library/Frameworks/Python.framework/Versions/3.11/lib/python3.11/site-packages (from pywhatkit) (10.3.0)\n",
      "Requirement already satisfied: pyautogui in /Library/Frameworks/Python.framework/Versions/3.11/lib/python3.11/site-packages (from pywhatkit) (0.9.54)\n",
      "Requirement already satisfied: requests in /Library/Frameworks/Python.framework/Versions/3.11/lib/python3.11/site-packages (from pywhatkit) (2.32.3)\n",
      "Requirement already satisfied: wikipedia in /Library/Frameworks/Python.framework/Versions/3.11/lib/python3.11/site-packages (from pywhatkit) (1.4.0)\n",
      "Requirement already satisfied: Flask in /Library/Frameworks/Python.framework/Versions/3.11/lib/python3.11/site-packages (from pywhatkit) (3.0.3)\n",
      "Requirement already satisfied: Werkzeug>=3.0.0 in /Library/Frameworks/Python.framework/Versions/3.11/lib/python3.11/site-packages (from Flask->pywhatkit) (3.0.3)\n",
      "Requirement already satisfied: Jinja2>=3.1.2 in /Library/Frameworks/Python.framework/Versions/3.11/lib/python3.11/site-packages (from Flask->pywhatkit) (3.1.4)\n",
      "Requirement already satisfied: itsdangerous>=2.1.2 in /Library/Frameworks/Python.framework/Versions/3.11/lib/python3.11/site-packages (from Flask->pywhatkit) (2.2.0)\n",
      "Requirement already satisfied: click>=8.1.3 in /Library/Frameworks/Python.framework/Versions/3.11/lib/python3.11/site-packages (from Flask->pywhatkit) (8.1.7)\n",
      "Requirement already satisfied: blinker>=1.6.2 in /Library/Frameworks/Python.framework/Versions/3.11/lib/python3.11/site-packages (from Flask->pywhatkit) (1.8.2)\n",
      "Requirement already satisfied: pymsgbox in /Library/Frameworks/Python.framework/Versions/3.11/lib/python3.11/site-packages (from pyautogui->pywhatkit) (1.0.9)\n",
      "Requirement already satisfied: pytweening>=1.0.4 in /Library/Frameworks/Python.framework/Versions/3.11/lib/python3.11/site-packages (from pyautogui->pywhatkit) (1.2.0)\n",
      "Requirement already satisfied: pyscreeze>=0.1.21 in /Library/Frameworks/Python.framework/Versions/3.11/lib/python3.11/site-packages (from pyautogui->pywhatkit) (1.0.1)\n",
      "Requirement already satisfied: pygetwindow>=0.0.5 in /Library/Frameworks/Python.framework/Versions/3.11/lib/python3.11/site-packages (from pyautogui->pywhatkit) (0.0.9)\n",
      "Requirement already satisfied: mouseinfo in /Library/Frameworks/Python.framework/Versions/3.11/lib/python3.11/site-packages (from pyautogui->pywhatkit) (0.1.3)\n",
      "Requirement already satisfied: pyobjc-core in /Library/Frameworks/Python.framework/Versions/3.11/lib/python3.11/site-packages (from pyautogui->pywhatkit) (10.3.1)\n",
      "Requirement already satisfied: pyobjc-framework-quartz in /Library/Frameworks/Python.framework/Versions/3.11/lib/python3.11/site-packages (from pyautogui->pywhatkit) (10.3.1)\n",
      "Requirement already satisfied: charset-normalizer<4,>=2 in /Library/Frameworks/Python.framework/Versions/3.11/lib/python3.11/site-packages (from requests->pywhatkit) (3.3.2)\n",
      "Requirement already satisfied: idna<4,>=2.5 in /Library/Frameworks/Python.framework/Versions/3.11/lib/python3.11/site-packages (from requests->pywhatkit) (3.7)\n",
      "Requirement already satisfied: urllib3<3,>=1.21.1 in /Library/Frameworks/Python.framework/Versions/3.11/lib/python3.11/site-packages (from requests->pywhatkit) (2.2.1)\n",
      "Requirement already satisfied: certifi>=2017.4.17 in /Library/Frameworks/Python.framework/Versions/3.11/lib/python3.11/site-packages (from requests->pywhatkit) (2024.2.2)\n",
      "Requirement already satisfied: beautifulsoup4 in /Library/Frameworks/Python.framework/Versions/3.11/lib/python3.11/site-packages (from wikipedia->pywhatkit) (4.12.3)\n",
      "Requirement already satisfied: MarkupSafe>=2.0 in /Library/Frameworks/Python.framework/Versions/3.11/lib/python3.11/site-packages (from Jinja2>=3.1.2->Flask->pywhatkit) (2.1.5)\n",
      "Requirement already satisfied: pyrect in /Library/Frameworks/Python.framework/Versions/3.11/lib/python3.11/site-packages (from pygetwindow>=0.0.5->pyautogui->pywhatkit) (0.2.0)\n",
      "Requirement already satisfied: soupsieve>1.2 in /Library/Frameworks/Python.framework/Versions/3.11/lib/python3.11/site-packages (from beautifulsoup4->wikipedia->pywhatkit) (2.6)\n",
      "Requirement already satisfied: pyperclip in /Library/Frameworks/Python.framework/Versions/3.11/lib/python3.11/site-packages (from mouseinfo->pyautogui->pywhatkit) (1.9.0)\n",
      "Requirement already satisfied: rubicon-objc in /Library/Frameworks/Python.framework/Versions/3.11/lib/python3.11/site-packages (from mouseinfo->pyautogui->pywhatkit) (0.4.9)\n",
      "Requirement already satisfied: pyobjc-framework-Cocoa>=10.3.1 in /Library/Frameworks/Python.framework/Versions/3.11/lib/python3.11/site-packages (from pyobjc-framework-quartz->pyautogui->pywhatkit) (10.3.1)\n",
      "Requirement already satisfied: pandas in /Library/Frameworks/Python.framework/Versions/3.11/lib/python3.11/site-packages (2.2.2)\n",
      "Requirement already satisfied: numpy>=1.23.2 in /Library/Frameworks/Python.framework/Versions/3.11/lib/python3.11/site-packages (from pandas) (1.26.4)\n",
      "Requirement already satisfied: python-dateutil>=2.8.2 in /Library/Frameworks/Python.framework/Versions/3.11/lib/python3.11/site-packages (from pandas) (2.9.0.post0)\n",
      "Requirement already satisfied: pytz>=2020.1 in /Library/Frameworks/Python.framework/Versions/3.11/lib/python3.11/site-packages (from pandas) (2024.1)\n",
      "Requirement already satisfied: tzdata>=2022.7 in /Library/Frameworks/Python.framework/Versions/3.11/lib/python3.11/site-packages (from pandas) (2024.1)\n",
      "Requirement already satisfied: six>=1.5 in /Library/Frameworks/Python.framework/Versions/3.11/lib/python3.11/site-packages (from python-dateutil>=2.8.2->pandas) (1.16.0)\n"
     ]
    }
   ],
   "source": [
    "!pip install pywhatkit\n",
    "!pip install pandas"
   ]
  },
  {
   "cell_type": "code",
   "execution_count": 13,
   "id": "044a8fcb-bcd5-407b-95fc-47d4f7db9f54",
   "metadata": {},
   "outputs": [],
   "source": [
    "import pywhatkit\n",
    "from datetime import datetime\n",
    "import pandas as pd"
   ]
  },
  {
   "cell_type": "code",
   "execution_count": 14,
   "id": "16f9649f-6951-40dc-b790-5611f3f73cd9",
   "metadata": {},
   "outputs": [
    {
     "data": {
      "text/html": [
       "<div>\n",
       "<style scoped>\n",
       "    .dataframe tbody tr th:only-of-type {\n",
       "        vertical-align: middle;\n",
       "    }\n",
       "\n",
       "    .dataframe tbody tr th {\n",
       "        vertical-align: top;\n",
       "    }\n",
       "\n",
       "    .dataframe thead th {\n",
       "        text-align: right;\n",
       "    }\n",
       "</style>\n",
       "<table border=\"1\" class=\"dataframe\">\n",
       "  <thead>\n",
       "    <tr style=\"text-align: right;\">\n",
       "      <th></th>\n",
       "      <th>firstName</th>\n",
       "      <th>lastName</th>\n",
       "      <th>phoneNumber</th>\n",
       "    </tr>\n",
       "  </thead>\n",
       "  <tbody>\n",
       "    <tr>\n",
       "      <th>0</th>\n",
       "      <td>Enrico</td>\n",
       "      <td>Pratama</td>\n",
       "      <td>+1(206)-619-9722</td>\n",
       "    </tr>\n",
       "    <tr>\n",
       "      <th>1</th>\n",
       "      <td>Enrico</td>\n",
       "      <td>Pratama2</td>\n",
       "      <td>+1(206)-939-1472</td>\n",
       "    </tr>\n",
       "    <tr>\n",
       "      <th>2</th>\n",
       "      <td>Sharon</td>\n",
       "      <td>Test</td>\n",
       "      <td>+1(310)-696-8066</td>\n",
       "    </tr>\n",
       "    <tr>\n",
       "      <th>3</th>\n",
       "      <td>Arvin</td>\n",
       "      <td>Oentoro</td>\n",
       "      <td>+1(310)-739-6105</td>\n",
       "    </tr>\n",
       "    <tr>\n",
       "      <th>4</th>\n",
       "      <td>Enrico</td>\n",
       "      <td>Pratama</td>\n",
       "      <td>+1(206)-619-9722</td>\n",
       "    </tr>\n",
       "  </tbody>\n",
       "</table>\n",
       "</div>"
      ],
      "text/plain": [
       "  firstName  lastName       phoneNumber\n",
       "0    Enrico   Pratama  +1(206)-619-9722\n",
       "1    Enrico  Pratama2  +1(206)-939-1472\n",
       "2    Sharon      Test  +1(310)-696-8066\n",
       "3     Arvin   Oentoro  +1(310)-739-6105\n",
       "4   Enrico    Pratama  +1(206)-619-9722"
      ]
     },
     "execution_count": 14,
     "metadata": {},
     "output_type": "execute_result"
    }
   ],
   "source": [
    "df = pd.read_csv('../testing.csv') # change this according to the CSV that you are using\n",
    "selected_columns = df[[\"firstName\", \"lastName\", \"phoneNumber\"]]\n",
    "seathrough = selected_columns.dropna()\n",
    "seathrough.loc[:, 'phoneNumber'] = seathrough['phoneNumber'].str.replace(\" \", \"\", regex=False)\n",
    "unique_records = seathrough.drop_duplicates(subset=[\"firstName\", \"lastName\", \"phoneNumber\"])\n",
    "unique_records"
   ]
  },
  {
   "cell_type": "code",
   "execution_count": 15,
   "id": "8c5e926e-ffb4-484e-8265-7ad967fba880",
   "metadata": {},
   "outputs": [
    {
     "data": {
      "text/plain": [
       "[{'firstName': 'Enrico',\n",
       "  'lastName': 'Pratama',\n",
       "  'phoneNumber': '+1(206)-619-9722'},\n",
       " {'firstName': 'Enrico',\n",
       "  'lastName': 'Pratama2',\n",
       "  'phoneNumber': '+1(206)-939-1472'},\n",
       " {'firstName': 'Sharon',\n",
       "  'lastName': 'Test',\n",
       "  'phoneNumber': '+1(310)-696-8066'},\n",
       " {'firstName': 'Arvin',\n",
       "  'lastName': 'Oentoro',\n",
       "  'phoneNumber': '+1(310)-739-6105'},\n",
       " {'firstName': 'Enrico ',\n",
       "  'lastName': 'Pratama',\n",
       "  'phoneNumber': '+1(206)-619-9722'},\n",
       " {'firstName': 'Enrico ',\n",
       "  'lastName': 'Pratama',\n",
       "  'phoneNumber': '+1(206)-619-9722'},\n",
       " {'firstName': 'Enrico ',\n",
       "  'lastName': 'Pratama',\n",
       "  'phoneNumber': '+1(206)-619-9722'},\n",
       " {'firstName': 'Enrico ',\n",
       "  'lastName': 'Pratama',\n",
       "  'phoneNumber': '+1(206)-619-9722'},\n",
       " {'firstName': 'Enrico ',\n",
       "  'lastName': 'Pratama',\n",
       "  'phoneNumber': '+1(206)-619-9722'},\n",
       " {'firstName': 'Enrico ',\n",
       "  'lastName': 'Pratama',\n",
       "  'phoneNumber': '+1(206)-619-9722'},\n",
       " {'firstName': 'Enrico ',\n",
       "  'lastName': 'Pratama',\n",
       "  'phoneNumber': '+1(206)-619-9722'},\n",
       " {'firstName': 'Enrico ',\n",
       "  'lastName': 'Pratama',\n",
       "  'phoneNumber': '+1(206)-619-9722'},\n",
       " {'firstName': 'Enrico ',\n",
       "  'lastName': 'Pratama',\n",
       "  'phoneNumber': '+1(206)-619-9722'}]"
      ]
     },
     "execution_count": 15,
     "metadata": {},
     "output_type": "execute_result"
    }
   ],
   "source": [
    "stamp_quest_guests = seathrough.to_dict('records')\n",
    "stamp_quest_guests"
   ]
  },
  {
   "cell_type": "code",
   "execution_count": 16,
   "id": "75db7ef8-a9ef-4452-a321-01a09cbfd57f",
   "metadata": {},
   "outputs": [],
   "source": [
    "test_guests = [\n",
    "    {\"firstName\": \"Enrico\", \"lastName\": \"Pratama\", \"phoneNumber\": \"+6281239654795\"}\n",
    "]"
   ]
  },
  {
   "cell_type": "code",
   "execution_count": 36,
   "id": "7acafc11-bcec-4df3-8afe-8cb94a35c2b0",
   "metadata": {},
   "outputs": [
    {
     "name": "stdout",
     "output_type": "stream",
     "text": [
      "sent message to Enrico Pratama\n"
     ]
    }
   ],
   "source": [
    "for guest in test_guests: # change test_guests to stamp_quest_guests when done testing\n",
    "    first_name = guest[\"firstName\"]\n",
    "    last_name = guest[\"lastName\"]\n",
    "    guest_number = guest[\"phoneNumber\"]\n",
    "    \n",
    "    message = f\"\"\"\n",
    "    Hello {first_name} {last_name} :-)\n",
    "\n",
    "    Thank you for ordering ISAUW's Bannana Pudding! \n",
    "    etcetc.\n",
    "    Thank you so much for supporting us through this event and we hope to see you there!\n",
    "    \"\"\"\n",
    "    pywhatkit.sendwhatmsg_instantly(guest_number, message, 4, True)\n",
    "    print(f\"sent message to {first_name} {last_name}\")\n"
   ]
  },
  {
   "cell_type": "code",
   "execution_count": null,
   "id": "9c845cab",
   "metadata": {},
   "outputs": [],
   "source": []
  }
 ],
 "metadata": {
  "kernelspec": {
   "display_name": "Python 3",
   "language": "python",
   "name": "python3"
  },
  "language_info": {
   "codemirror_mode": {
    "name": "ipython",
    "version": 3
   },
   "file_extension": ".py",
   "mimetype": "text/x-python",
   "name": "python",
   "nbconvert_exporter": "python",
   "pygments_lexer": "ipython3",
   "version": "3.10.5"
  }
 },
 "nbformat": 4,
 "nbformat_minor": 5
}
